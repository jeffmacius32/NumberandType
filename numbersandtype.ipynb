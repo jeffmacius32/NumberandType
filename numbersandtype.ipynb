{
 "cells": [
  {
   "cell_type": "code",
   "execution_count": 1,
   "id": "3f1155d5-2e9e-4274-93c1-4bc8d73fc2a8",
   "metadata": {},
   "outputs": [
    {
     "name": "stdout",
     "output_type": "stream",
     "text": [
      "there are 216000 in a hour\n",
      "There are 5184000 in a day\n",
      "using floating point  24.0\n",
      "using interger 24\n",
      "Yes the number agree with the floating point value from the previous question, aside from the final .0 \n"
     ]
    }
   ],
   "source": [
    "second = 60\n",
    "minutes = 60\n",
    "hours = 60\n",
    "second_per_minutes = 60 * 60\n",
    "second_per_hour = second_per_minutes * 60\n",
    "print(\"there are\" , second_per_hour , \"in a hour\")\n",
    "second_per_day = second_per_hour * 24\n",
    "print(\"There are\" , second_per_day , \"in a day\")\n",
    "division1 = second_per_day / second_per_hour\n",
    "print(\"using floating point \" ,division1)\n",
    "division2 = second_per_day // second_per_hour\n",
    "print(\"using interger\", division2)\n",
    "print(\"Yes the number agree with the floating point value from the previous question, aside from the final .0 \")"
   ]
  }
 ],
 "metadata": {
  "kernelspec": {
   "display_name": "Python 3 (ipykernel)",
   "language": "python",
   "name": "python3"
  },
  "language_info": {
   "codemirror_mode": {
    "name": "ipython",
    "version": 3
   },
   "file_extension": ".py",
   "mimetype": "text/x-python",
   "name": "python",
   "nbconvert_exporter": "python",
   "pygments_lexer": "ipython3",
   "version": "3.12.4"
  }
 },
 "nbformat": 4,
 "nbformat_minor": 5
}
